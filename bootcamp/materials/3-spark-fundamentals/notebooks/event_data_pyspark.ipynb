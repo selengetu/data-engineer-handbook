{
 "cells": [
  {
   "cell_type": "code",
   "execution_count": 5,
   "id": "81cca085-dba2-42eb-a13b-fa64b6e86583",
   "metadata": {},
   "outputs": [
    {
     "name": "stdout",
     "output_type": "stream",
     "text": [
      "+-----------+--------+-----------------+---------+-------------+--------------------+--------------------+-------------------+\n",
      "|        url|referrer|   browser_family|os_family|device_family|                host|          event_time|         event_date|\n",
      "+-----------+--------+-----------------+---------+-------------+--------------------+--------------------+-------------------+\n",
      "|          /|    NULL|             curl|    Other|        Other| www.zachwilson.tech|2023-01-09 11:55:...|2023-01-09 00:00:00|\n",
      "|          /|    NULL|             curl|    Other|        Other| www.zachwilson.tech|2023-01-09 11:55:...|2023-01-09 00:00:00|\n",
      "|          /|    NULL|             curl|    Other|        Other| www.zachwilson.tech|2023-01-09 20:10:...|2023-01-09 00:00:00|\n",
      "|          /|    NULL|             curl|    Other|        Other| www.zachwilson.tech|2023-01-09 20:10:...|2023-01-09 00:00:00|\n",
      "|          /|    NULL|            Other|    Other|        Other|admin.zachwilson....|2023-01-10 04:43:...|2023-01-10 00:00:00|\n",
      "|          /|    NULL|            Other|    Other|        Other|admin.zachwilson....|2023-01-10 04:43:...|2023-01-10 00:00:00|\n",
      "|          /|    NULL|            Other|    Other|        Other| www.zachwilson.tech|2023-01-14 05:25:...|2023-01-14 00:00:00|\n",
      "|          /|    NULL|            Other|    Other|        Other| www.zachwilson.tech|2023-01-14 05:25:...|2023-01-14 00:00:00|\n",
      "|          /|    NULL|            Other|    Other|        Other| www.zachwilson.tech|2023-01-14 05:25:...|2023-01-14 00:00:00|\n",
      "|          /|    NULL|            Other|    Other|        Other| www.zachwilson.tech|2023-01-14 05:25:...|2023-01-14 00:00:00|\n",
      "|          /|    NULL|            Other|    Other|        Other| www.zachwilson.tech|2023-01-14 05:44:...|2023-01-14 00:00:00|\n",
      "|          /|    NULL|            Other|    Other|        Other| www.zachwilson.tech|2023-01-14 05:44:...|2023-01-14 00:00:00|\n",
      "| /?author=4|    NULL|Apache-HttpClient|    Other|        Other| www.zachwilson.tech|2023-01-22 10:29:...|2023-01-22 00:00:00|\n",
      "| /?author=4|    NULL|Apache-HttpClient|    Other|        Other| www.zachwilson.tech|2023-01-22 10:29:...|2023-01-22 00:00:00|\n",
      "| /?author=5|    NULL|Apache-HttpClient|    Other|        Other| www.zachwilson.tech|2023-01-22 10:29:...|2023-01-22 00:00:00|\n",
      "| /?author=5|    NULL|Apache-HttpClient|    Other|        Other| www.zachwilson.tech|2023-01-22 10:29:...|2023-01-22 00:00:00|\n",
      "|          /|    NULL|        AhrefsBot|    Other|       Spider| www.zachwilson.tech|2023-01-21 23:59:...|2023-01-21 00:00:00|\n",
      "|          /|    NULL|        AhrefsBot|    Other|       Spider| www.zachwilson.tech|2023-01-21 23:59:...|2023-01-21 00:00:00|\n",
      "|/robots.txt|    NULL|             NULL|     NULL|         NULL|    www.eczachly.com|2023-01-22 00:04:...|2023-01-22 00:00:00|\n",
      "|   /ads.txt|    NULL|     WellKnownBot|    Other|       Spider|    www.eczachly.com|2023-01-22 00:04:...|2023-01-22 00:00:00|\n",
      "+-----------+--------+-----------------+---------+-------------+--------------------+--------------------+-------------------+\n",
      "only showing top 20 rows\n",
      "\n"
     ]
    }
   ],
   "source": [
    "from pyspark.sql import SparkSession\n",
    "from pyspark.sql.functions import expr, col\n",
    "spark = SparkSession.builder.appName(\"Jupyter\").getOrCreate()\n",
    "\n",
    "spark\n",
    "\n",
    "df = spark.read.option(\"header\", \"true\").csv(\"/home/iceberg/data/updated_events_lab_1.csv\").withColumn(\"event_date\", expr(\"DATE_TRUNC('day', event_time)\"))\n",
    "\n",
    "df.show()"
   ]
  },
  {
   "cell_type": "code",
   "execution_count": 6,
   "id": "dce068df-3e21-429a-8716-abdd13e9406c",
   "metadata": {},
   "outputs": [
    {
     "name": "stdout",
     "output_type": "stream",
     "text": [
      "+---+--------------------+--------------+---------+----------------+--------------------+--------------------+-------------------+\n",
      "|url|            referrer|browser_family|os_family|   device_family|                host|          event_time|         event_date|\n",
      "+---+--------------------+--------------+---------+----------------+--------------------+--------------------+-------------------+\n",
      "|  /|                NULL|          NULL|     NULL|            NULL|admin.zachwilson....|2023-01-01 17:22:...|2023-01-01 00:00:00|\n",
      "|  /|                NULL|          NULL|     NULL|            NULL|admin.zachwilson....|2023-01-01 17:22:...|2023-01-01 00:00:00|\n",
      "|  /|                NULL|       Android|  Android|Samsung SM-N900T|admin.zachwilson....|2023-01-01 17:14:...|2023-01-01 00:00:00|\n",
      "|  /|                NULL|       Android|  Android|Samsung SM-N900T|admin.zachwilson....|2023-01-01 17:14:...|2023-01-01 00:00:00|\n",
      "|  /|                NULL|       Android|  Android|       ZTE BA520|admin.zachwilson....|2023-01-01 17:16:...|2023-01-01 00:00:00|\n",
      "|  /|                NULL|       Android|  Android|       ZTE BA520|admin.zachwilson....|2023-01-01 17:16:...|2023-01-01 00:00:00|\n",
      "|  /|                NULL|       Android|  Android|       ZTE BA520|admin.zachwilson....|2023-01-01 17:16:...|2023-01-01 00:00:00|\n",
      "|  /|                NULL|       Android|  Android|       ZTE BA520|admin.zachwilson....|2023-01-01 17:16:...|2023-01-01 00:00:00|\n",
      "|  /|                NULL|       Android|  Android|       ZTE BA520|admin.zachwilson....|2023-01-01 17:38:...|2023-01-01 00:00:00|\n",
      "|  /|                NULL|       Android|  Android|       ZTE BA520|admin.zachwilson....|2023-01-01 17:38:...|2023-01-01 00:00:00|\n",
      "|  /|                NULL|       Android|  Android|Samsung SM-N900T|admin.zachwilson....|2023-01-01 17:14:...|2023-01-01 00:00:00|\n",
      "|  /|                NULL|       Android|  Android|Samsung SM-N900T|admin.zachwilson....|2023-01-01 17:14:...|2023-01-01 00:00:00|\n",
      "|  /|                NULL|       Android|  Android|       ZTE BA520|admin.zachwilson....|2023-01-01 17:16:...|2023-01-01 00:00:00|\n",
      "|  /|                NULL|       Android|  Android|       ZTE BA520|admin.zachwilson....|2023-01-01 17:16:...|2023-01-01 00:00:00|\n",
      "|  /|                NULL|       Android|  Android|       ZTE BA520|admin.zachwilson....|2023-01-01 17:16:...|2023-01-01 00:00:00|\n",
      "|  /|                NULL|       Android|  Android|       ZTE BA520|admin.zachwilson....|2023-01-01 17:16:...|2023-01-01 00:00:00|\n",
      "|  /|                NULL|       Android|  Android|       ZTE BA520|admin.zachwilson....|2023-01-01 17:38:...|2023-01-01 00:00:00|\n",
      "|  /|                NULL|       Android|  Android|       ZTE BA520|admin.zachwilson....|2023-01-01 17:38:...|2023-01-01 00:00:00|\n",
      "|  /|http://admin.zach...|        Chrome| Mac OS X|           Other|admin.zachwilson....|2023-01-01 00:22:...|2023-01-01 00:00:00|\n",
      "|  /|http://admin.zach...|        Chrome| Mac OS X|           Other|admin.zachwilson....|2023-01-01 00:22:...|2023-01-01 00:00:00|\n",
      "+---+--------------------+--------------+---------+----------------+--------------------+--------------------+-------------------+\n",
      "only showing top 20 rows\n",
      "\n"
     ]
    }
   ],
   "source": [
    "sorted = df.repartition(10, col(\"event_date\")) \\\n",
    "        .sortWithinPartitions(col(\"event_date\"), col(\"host\"), col(\"browser_family\")) \\\n",
    "        .withColumn(\"event_time\", col(\"event_time\").cast(\"timestamp\")) \\\n",
    "\n",
    "sorted.show()"
   ]
  },
  {
   "cell_type": "code",
   "execution_count": 7,
   "id": "d800dca7-2737-4192-b5c0-c1806c105e15",
   "metadata": {},
   "outputs": [
    {
     "data": {
      "text/html": [
       "<table>\n",
       "    <thead>\n",
       "        <tr>\n",
       "        </tr>\n",
       "    </thead>\n",
       "    <tbody>\n",
       "    </tbody>\n",
       "</table>"
      ],
      "text/plain": [
       "++\n",
       "||\n",
       "++\n",
       "++"
      ]
     },
     "execution_count": 7,
     "metadata": {},
     "output_type": "execute_result"
    }
   ],
   "source": [
    "%%sql\n",
    "\n",
    "CREATE DATABASE IF NOT EXISTS bootcamp"
   ]
  },
  {
   "cell_type": "code",
   "execution_count": 8,
   "id": "e83cd813-d5c0-4d67-8285-849b882b8bfa",
   "metadata": {},
   "outputs": [
    {
     "data": {
      "text/html": [
       "<table>\n",
       "    <thead>\n",
       "        <tr>\n",
       "        </tr>\n",
       "    </thead>\n",
       "    <tbody>\n",
       "    </tbody>\n",
       "</table>"
      ],
      "text/plain": [
       "++\n",
       "||\n",
       "++\n",
       "++"
      ]
     },
     "execution_count": 8,
     "metadata": {},
     "output_type": "execute_result"
    }
   ],
   "source": [
    "%%sql\n",
    "\n",
    "DROP TABLE IF EXISTS bootcamp.events"
   ]
  },
  {
   "cell_type": "code",
   "execution_count": 9,
   "id": "d1b197a9-1b63-4130-acbe-01418eede0e5",
   "metadata": {
    "scrolled": true
   },
   "outputs": [
    {
     "data": {
      "text/html": [
       "<table>\n",
       "    <thead>\n",
       "        <tr>\n",
       "        </tr>\n",
       "    </thead>\n",
       "    <tbody>\n",
       "    </tbody>\n",
       "</table>"
      ],
      "text/plain": [
       "++\n",
       "||\n",
       "++\n",
       "++"
      ]
     },
     "execution_count": 9,
     "metadata": {},
     "output_type": "execute_result"
    }
   ],
   "source": [
    "%%sql\n",
    "\n",
    "CREATE TABLE IF NOT EXISTS bootcamp.events (\n",
    "    url STRING,\n",
    "    referrer STRING,\n",
    "    browser_family STRING,\n",
    "    os_family STRING,\n",
    "    device_family STRING,\n",
    "    host STRING,\n",
    "    event_time TIMESTAMP,\n",
    "    event_date DATE\n",
    ")\n",
    "USING iceberg\n",
    "PARTITIONED BY (years(event_date));\n"
   ]
  },
  {
   "cell_type": "code",
   "execution_count": 10,
   "id": "c40b143f-295e-4875-bd7f-12409312b800",
   "metadata": {
    "scrolled": true
   },
   "outputs": [
    {
     "data": {
      "text/html": [
       "<table>\n",
       "    <thead>\n",
       "        <tr>\n",
       "        </tr>\n",
       "    </thead>\n",
       "    <tbody>\n",
       "    </tbody>\n",
       "</table>"
      ],
      "text/plain": [
       "++\n",
       "||\n",
       "++\n",
       "++"
      ]
     },
     "execution_count": 10,
     "metadata": {},
     "output_type": "execute_result"
    }
   ],
   "source": [
    "%%sql\n",
    "\n",
    "\n",
    "CREATE TABLE IF NOT EXISTS bootcamp.events_sorted (\n",
    "    url STRING,\n",
    "    referrer STRING,\n",
    "    browser_family STRING,\n",
    "    os_family STRING,\n",
    "    device_family STRING,\n",
    "    host STRING,\n",
    "    event_time TIMESTAMP,\n",
    "    event_date DATE\n",
    ")\n",
    "USING iceberg;"
   ]
  },
  {
   "cell_type": "code",
   "execution_count": 11,
   "id": "00c86e79-a911-464c-ad58-acc92859dcc6",
   "metadata": {
    "scrolled": true
   },
   "outputs": [
    {
     "data": {
      "text/html": [
       "<table>\n",
       "    <thead>\n",
       "        <tr>\n",
       "        </tr>\n",
       "    </thead>\n",
       "    <tbody>\n",
       "    </tbody>\n",
       "</table>"
      ],
      "text/plain": [
       "++\n",
       "||\n",
       "++\n",
       "++"
      ]
     },
     "execution_count": 11,
     "metadata": {},
     "output_type": "execute_result"
    }
   ],
   "source": [
    "%%sql\n",
    "\n",
    "\n",
    "CREATE TABLE IF NOT EXISTS bootcamp.events_unsorted (\n",
    "    url STRING,\n",
    "    referrer STRING,\n",
    "    browser_family STRING,\n",
    "    os_family STRING,\n",
    "    device_family STRING,\n",
    "    host STRING,\n",
    "    event_time TIMESTAMP,\n",
    "    event_date DATE\n",
    ")\n",
    "USING iceberg;"
   ]
  },
  {
   "cell_type": "code",
   "execution_count": 12,
   "id": "2c1254bc-9ecf-4c86-bfd9-de81ecfbb78b",
   "metadata": {},
   "outputs": [
    {
     "name": "stderr",
     "output_type": "stream",
     "text": [
      "                                                                                \r"
     ]
    }
   ],
   "source": [
    "\n",
    "start_df = df.repartition(4, col(\"event_date\")).withColumn(\"event_time\", col(\"event_time\").cast(\"timestamp\")) \\\n",
    "    \n",
    "\n",
    "first_sort_df = start_df.sortWithinPartitions(col(\"event_date\"), col(\"browser_family\"), col(\"host\"))\n",
    "\n",
    "sorted = df.repartition(10, col(\"event_date\")) \\\n",
    "        .sortWithinPartitions(col(\"event_date\")) \\\n",
    "        .withColumn(\"event_time\", col(\"event_time\").cast(\"timestamp\")) \\\n",
    "\n",
    "start_df.write.mode(\"overwrite\").saveAsTable(\"bootcamp.events_unsorted\")\n",
    "first_sort_df.write.mode(\"overwrite\").saveAsTable(\"bootcamp.events_sorted\")"
   ]
  },
  {
   "cell_type": "code",
   "execution_count": 13,
   "id": "d207a11b-b0a4-4662-bbe9-747d8f67be7d",
   "metadata": {},
   "outputs": [
    {
     "data": {
      "text/html": [
       "<table>\n",
       "    <thead>\n",
       "        <tr>\n",
       "            <th>size</th>\n",
       "            <th>num_files</th>\n",
       "            <th>sorted</th>\n",
       "        </tr>\n",
       "    </thead>\n",
       "    <tbody>\n",
       "        <tr>\n",
       "            <td>122256</td>\n",
       "            <td>4</td>\n",
       "            <td>sorted</td>\n",
       "        </tr>\n",
       "        <tr>\n",
       "            <td>128854</td>\n",
       "            <td>4</td>\n",
       "            <td>unsorted</td>\n",
       "        </tr>\n",
       "    </tbody>\n",
       "</table>"
      ],
      "text/plain": [
       "+--------+-----------+----------+\n",
       "|   size | num_files |   sorted |\n",
       "+--------+-----------+----------+\n",
       "| 122256 |         4 |   sorted |\n",
       "| 128854 |         4 | unsorted |\n",
       "+--------+-----------+----------+"
      ]
     },
     "execution_count": 13,
     "metadata": {},
     "output_type": "execute_result"
    }
   ],
   "source": [
    "%%sql\n",
    "\n",
    "SELECT SUM(file_size_in_bytes) as size, COUNT(1) as num_files, 'sorted' \n",
    "FROM demo.bootcamp.events_sorted.files\n",
    "\n",
    "UNION ALL\n",
    "SELECT SUM(file_size_in_bytes) as size, COUNT(1) as num_files, 'unsorted' \n",
    "FROM demo.bootcamp.events_unsorted.files\n",
    "\n",
    "\n",
    "\n"
   ]
  },
  {
   "cell_type": "code",
   "execution_count": 14,
   "id": "a93db4d6-ac15-4d0e-83da-77b93ad618da",
   "metadata": {},
   "outputs": [
    {
     "data": {
      "text/html": [
       "<table>\n",
       "    <thead>\n",
       "        <tr>\n",
       "            <th>size</th>\n",
       "            <th>num_files</th>\n",
       "        </tr>\n",
       "    </thead>\n",
       "    <tbody>\n",
       "        <tr>\n",
       "            <td>None</td>\n",
       "            <td>0</td>\n",
       "        </tr>\n",
       "    </tbody>\n",
       "</table>"
      ],
      "text/plain": [
       "+------+-----------+\n",
       "| size | num_files |\n",
       "+------+-----------+\n",
       "| None |         0 |\n",
       "+------+-----------+"
      ]
     },
     "execution_count": 14,
     "metadata": {},
     "output_type": "execute_result"
    }
   ],
   "source": [
    "%%sql\n",
    "SELECT SUM(file_size_in_bytes) as size, COUNT(1) as num_files FROM demo.bootcamp.events.files;"
   ]
  },
  {
   "cell_type": "code",
   "execution_count": 15,
   "id": "24e5d231",
   "metadata": {
    "collapsed": false,
    "jupyter": {
     "outputs_hidden": false
    },
    "pycharm": {
     "name": "#%%\n"
    }
   },
   "outputs": [
    {
     "ename": "AnalysisException",
     "evalue": "[TABLE_OR_VIEW_NOT_FOUND] The table or view `bootcamp`.`matches_bucketed`.`files` cannot be found. Verify the spelling and correctness of the schema and catalog.\nIf you did not qualify the name with a schema, verify the current_schema() output, or qualify the name with the correct schema and catalog.\nTo tolerate the error on drop use DROP VIEW IF EXISTS or DROP TABLE IF EXISTS.; line 1 pos 21;\n'Aggregate [unresolvedalias(count(1), None)]\n+- 'UnresolvedRelation [bootcamp, matches_bucketed, files], [], false\n",
     "output_type": "error",
     "traceback": [
      "\u001b[0;31m---------------------------------------------------------------------------\u001b[0m",
      "\u001b[0;31mAnalysisException\u001b[0m                         Traceback (most recent call last)",
      "Cell \u001b[0;32mIn[15], line 1\u001b[0m\n\u001b[0;32m----> 1\u001b[0m \u001b[43mget_ipython\u001b[49m\u001b[43m(\u001b[49m\u001b[43m)\u001b[49m\u001b[38;5;241;43m.\u001b[39;49m\u001b[43mrun_cell_magic\u001b[49m\u001b[43m(\u001b[49m\u001b[38;5;124;43m'\u001b[39;49m\u001b[38;5;124;43msql\u001b[39;49m\u001b[38;5;124;43m'\u001b[39;49m\u001b[43m,\u001b[49m\u001b[43m \u001b[49m\u001b[38;5;124;43m'\u001b[39;49m\u001b[38;5;124;43m'\u001b[39;49m\u001b[43m,\u001b[49m\u001b[43m \u001b[49m\u001b[38;5;124;43m'\u001b[39;49m\u001b[38;5;124;43mSELECT COUNT(1) FROM bootcamp.matches_bucketed.files\u001b[39;49m\u001b[38;5;130;43;01m\\n\u001b[39;49;00m\u001b[38;5;124;43m'\u001b[39;49m\u001b[43m)\u001b[49m\n",
      "File \u001b[0;32m/usr/local/lib/python3.9/site-packages/IPython/core/interactiveshell.py:2517\u001b[0m, in \u001b[0;36mInteractiveShell.run_cell_magic\u001b[0;34m(self, magic_name, line, cell)\u001b[0m\n\u001b[1;32m   2515\u001b[0m \u001b[38;5;28;01mwith\u001b[39;00m \u001b[38;5;28mself\u001b[39m\u001b[38;5;241m.\u001b[39mbuiltin_trap:\n\u001b[1;32m   2516\u001b[0m     args \u001b[38;5;241m=\u001b[39m (magic_arg_s, cell)\n\u001b[0;32m-> 2517\u001b[0m     result \u001b[38;5;241m=\u001b[39m \u001b[43mfn\u001b[49m\u001b[43m(\u001b[49m\u001b[38;5;241;43m*\u001b[39;49m\u001b[43margs\u001b[49m\u001b[43m,\u001b[49m\u001b[43m \u001b[49m\u001b[38;5;241;43m*\u001b[39;49m\u001b[38;5;241;43m*\u001b[39;49m\u001b[43mkwargs\u001b[49m\u001b[43m)\u001b[49m\n\u001b[1;32m   2519\u001b[0m \u001b[38;5;66;03m# The code below prevents the output from being displayed\u001b[39;00m\n\u001b[1;32m   2520\u001b[0m \u001b[38;5;66;03m# when using magics with decorator @output_can_be_silenced\u001b[39;00m\n\u001b[1;32m   2521\u001b[0m \u001b[38;5;66;03m# when the last Python token in the expression is a ';'.\u001b[39;00m\n\u001b[1;32m   2522\u001b[0m \u001b[38;5;28;01mif\u001b[39;00m \u001b[38;5;28mgetattr\u001b[39m(fn, magic\u001b[38;5;241m.\u001b[39mMAGIC_OUTPUT_CAN_BE_SILENCED, \u001b[38;5;28;01mFalse\u001b[39;00m):\n",
      "File \u001b[0;32m~/.ipython/profile_default/startup/00-prettytables.py:81\u001b[0m, in \u001b[0;36msql\u001b[0;34m(line, cell)\u001b[0m\n\u001b[1;32m     79\u001b[0m         \u001b[38;5;28;01mreturn\u001b[39;00m _to_table(df, num_rows\u001b[38;5;241m=\u001b[39margs\u001b[38;5;241m.\u001b[39mlimit)\n\u001b[1;32m     80\u001b[0m \u001b[38;5;28;01melse\u001b[39;00m:\n\u001b[0;32m---> 81\u001b[0m     \u001b[38;5;28;01mreturn\u001b[39;00m _to_table(\u001b[43mspark\u001b[49m\u001b[38;5;241;43m.\u001b[39;49m\u001b[43msql\u001b[49m\u001b[43m(\u001b[49m\u001b[43mcell\u001b[49m\u001b[43m)\u001b[49m)\n",
      "File \u001b[0;32m/opt/spark/python/pyspark/sql/session.py:1631\u001b[0m, in \u001b[0;36mSparkSession.sql\u001b[0;34m(self, sqlQuery, args, **kwargs)\u001b[0m\n\u001b[1;32m   1627\u001b[0m         \u001b[38;5;28;01massert\u001b[39;00m \u001b[38;5;28mself\u001b[39m\u001b[38;5;241m.\u001b[39m_jvm \u001b[38;5;129;01mis\u001b[39;00m \u001b[38;5;129;01mnot\u001b[39;00m \u001b[38;5;28;01mNone\u001b[39;00m\n\u001b[1;32m   1628\u001b[0m         litArgs \u001b[38;5;241m=\u001b[39m \u001b[38;5;28mself\u001b[39m\u001b[38;5;241m.\u001b[39m_jvm\u001b[38;5;241m.\u001b[39mPythonUtils\u001b[38;5;241m.\u001b[39mtoArray(\n\u001b[1;32m   1629\u001b[0m             [_to_java_column(lit(v)) \u001b[38;5;28;01mfor\u001b[39;00m v \u001b[38;5;129;01min\u001b[39;00m (args \u001b[38;5;129;01mor\u001b[39;00m [])]\n\u001b[1;32m   1630\u001b[0m         )\n\u001b[0;32m-> 1631\u001b[0m     \u001b[38;5;28;01mreturn\u001b[39;00m DataFrame(\u001b[38;5;28;43mself\u001b[39;49m\u001b[38;5;241;43m.\u001b[39;49m\u001b[43m_jsparkSession\u001b[49m\u001b[38;5;241;43m.\u001b[39;49m\u001b[43msql\u001b[49m\u001b[43m(\u001b[49m\u001b[43msqlQuery\u001b[49m\u001b[43m,\u001b[49m\u001b[43m \u001b[49m\u001b[43mlitArgs\u001b[49m\u001b[43m)\u001b[49m, \u001b[38;5;28mself\u001b[39m)\n\u001b[1;32m   1632\u001b[0m \u001b[38;5;28;01mfinally\u001b[39;00m:\n\u001b[1;32m   1633\u001b[0m     \u001b[38;5;28;01mif\u001b[39;00m \u001b[38;5;28mlen\u001b[39m(kwargs) \u001b[38;5;241m>\u001b[39m \u001b[38;5;241m0\u001b[39m:\n",
      "File \u001b[0;32m/opt/spark/python/lib/py4j-0.10.9.7-src.zip/py4j/java_gateway.py:1322\u001b[0m, in \u001b[0;36mJavaMember.__call__\u001b[0;34m(self, *args)\u001b[0m\n\u001b[1;32m   1316\u001b[0m command \u001b[38;5;241m=\u001b[39m proto\u001b[38;5;241m.\u001b[39mCALL_COMMAND_NAME \u001b[38;5;241m+\u001b[39m\\\n\u001b[1;32m   1317\u001b[0m     \u001b[38;5;28mself\u001b[39m\u001b[38;5;241m.\u001b[39mcommand_header \u001b[38;5;241m+\u001b[39m\\\n\u001b[1;32m   1318\u001b[0m     args_command \u001b[38;5;241m+\u001b[39m\\\n\u001b[1;32m   1319\u001b[0m     proto\u001b[38;5;241m.\u001b[39mEND_COMMAND_PART\n\u001b[1;32m   1321\u001b[0m answer \u001b[38;5;241m=\u001b[39m \u001b[38;5;28mself\u001b[39m\u001b[38;5;241m.\u001b[39mgateway_client\u001b[38;5;241m.\u001b[39msend_command(command)\n\u001b[0;32m-> 1322\u001b[0m return_value \u001b[38;5;241m=\u001b[39m \u001b[43mget_return_value\u001b[49m\u001b[43m(\u001b[49m\n\u001b[1;32m   1323\u001b[0m \u001b[43m    \u001b[49m\u001b[43manswer\u001b[49m\u001b[43m,\u001b[49m\u001b[43m \u001b[49m\u001b[38;5;28;43mself\u001b[39;49m\u001b[38;5;241;43m.\u001b[39;49m\u001b[43mgateway_client\u001b[49m\u001b[43m,\u001b[49m\u001b[43m \u001b[49m\u001b[38;5;28;43mself\u001b[39;49m\u001b[38;5;241;43m.\u001b[39;49m\u001b[43mtarget_id\u001b[49m\u001b[43m,\u001b[49m\u001b[43m \u001b[49m\u001b[38;5;28;43mself\u001b[39;49m\u001b[38;5;241;43m.\u001b[39;49m\u001b[43mname\u001b[49m\u001b[43m)\u001b[49m\n\u001b[1;32m   1325\u001b[0m \u001b[38;5;28;01mfor\u001b[39;00m temp_arg \u001b[38;5;129;01min\u001b[39;00m temp_args:\n\u001b[1;32m   1326\u001b[0m     \u001b[38;5;28;01mif\u001b[39;00m \u001b[38;5;28mhasattr\u001b[39m(temp_arg, \u001b[38;5;124m\"\u001b[39m\u001b[38;5;124m_detach\u001b[39m\u001b[38;5;124m\"\u001b[39m):\n",
      "File \u001b[0;32m/opt/spark/python/pyspark/errors/exceptions/captured.py:185\u001b[0m, in \u001b[0;36mcapture_sql_exception.<locals>.deco\u001b[0;34m(*a, **kw)\u001b[0m\n\u001b[1;32m    181\u001b[0m converted \u001b[38;5;241m=\u001b[39m convert_exception(e\u001b[38;5;241m.\u001b[39mjava_exception)\n\u001b[1;32m    182\u001b[0m \u001b[38;5;28;01mif\u001b[39;00m \u001b[38;5;129;01mnot\u001b[39;00m \u001b[38;5;28misinstance\u001b[39m(converted, UnknownException):\n\u001b[1;32m    183\u001b[0m     \u001b[38;5;66;03m# Hide where the exception came from that shows a non-Pythonic\u001b[39;00m\n\u001b[1;32m    184\u001b[0m     \u001b[38;5;66;03m# JVM exception message.\u001b[39;00m\n\u001b[0;32m--> 185\u001b[0m     \u001b[38;5;28;01mraise\u001b[39;00m converted \u001b[38;5;28;01mfrom\u001b[39;00m \u001b[38;5;28;01mNone\u001b[39;00m\n\u001b[1;32m    186\u001b[0m \u001b[38;5;28;01melse\u001b[39;00m:\n\u001b[1;32m    187\u001b[0m     \u001b[38;5;28;01mraise\u001b[39;00m\n",
      "\u001b[0;31mAnalysisException\u001b[0m: [TABLE_OR_VIEW_NOT_FOUND] The table or view `bootcamp`.`matches_bucketed`.`files` cannot be found. Verify the spelling and correctness of the schema and catalog.\nIf you did not qualify the name with a schema, verify the current_schema() output, or qualify the name with the correct schema and catalog.\nTo tolerate the error on drop use DROP VIEW IF EXISTS or DROP TABLE IF EXISTS.; line 1 pos 21;\n'Aggregate [unresolvedalias(count(1), None)]\n+- 'UnresolvedRelation [bootcamp, matches_bucketed, files], [], false\n"
     ]
    }
   ],
   "source": [
    "%%sql \n",
    "SELECT COUNT(1) FROM bootcamp.matches_bucketed.files"
   ]
  },
  {
   "cell_type": "code",
   "execution_count": null,
   "id": "674f173d-86ca-4637-9332-37ce04a81451",
   "metadata": {},
   "outputs": [],
   "source": []
  },
  {
   "cell_type": "code",
   "execution_count": null,
   "id": "591ba0b7-2e6f-420a-960d-95e5734b0166",
   "metadata": {},
   "outputs": [],
   "source": []
  }
 ],
 "metadata": {
  "kernelspec": {
   "display_name": "Python 3 (ipykernel)",
   "language": "python",
   "name": "python3"
  },
  "language_info": {
   "codemirror_mode": {
    "name": "ipython",
    "version": 3
   },
   "file_extension": ".py",
   "mimetype": "text/x-python",
   "name": "python",
   "nbconvert_exporter": "python",
   "pygments_lexer": "ipython3",
   "version": "3.9.18"
  }
 },
 "nbformat": 4,
 "nbformat_minor": 5
}
